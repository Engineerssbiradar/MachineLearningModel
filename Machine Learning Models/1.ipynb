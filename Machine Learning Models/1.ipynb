{
 "cells": [
  {
   "cell_type": "code",
   "execution_count": null,
   "metadata": {},
   "outputs": [],
   "source": [
    "#House Price Prediction\n",
    "#Machine learning model to predict house price using linear regression using jupyter notebook code\n",
    "\n",
    "# Importing necessary libraries\n",
    "import pandas as pd\n",
    "import numpy as np\n",
    "import matplotlib.pyplot as plt\n",
    "from sklearn.linear_model import LinearRegression\n",
    "from sklearn.model_selection import train_test_split\n",
    "\n",
    "# Loading the dataset\n",
    "data = pd.read_csv('housing.csv')\n",
    "\n",
    "# Splitting the dataset into training and testing sets\n",
    "X = data.iloc[:, :-1].values\n",
    "y = data.iloc[:, -1].values\n",
    "X_train, X_test, y_train, y_test = train_test_split(X, y, test_size=0.2, random_state=0)\n",
    "\n",
    "# Training the model\n",
    "regressor = LinearRegression()\n",
    "regressor.fit(X_train, y_train)\n",
    "\n",
    "# Predicting the test set results\n",
    "y_pred = regressor.predict(X_test)\n",
    "\n",
    "# Visualizing the training set results\n",
    "plt.scatter(X_train, y_train, color='red')\n",
    "plt.plot(X_train, regressor.predict(X_train), color='blue')\n",
    "plt.title('House Price vs Square Feet (Training set)')\n",
    "plt.xlabel('Square Feet')\n",
    "plt.ylabel('House Price')\n",
    "plt.show()\n",
    "\n",
    "# Visualizing the test set results\n",
    "plt.scatter(X_test, y_test, color='red')\n",
    "plt.plot(X_train, regressor.predict(X_train), color='blue')\n",
    "plt.title('House Price vs Square Feet (Test set)')\n",
    "plt.xlabel('Square Feet')\n",
    "plt.ylabel('House Price')\n",
    "plt.show() "
   ]
  }
 ],
 "metadata": {
  "language_info": {
   "name": "python"
  },
  "orig_nbformat": 4
 },
 "nbformat": 4,
 "nbformat_minor": 2
}
